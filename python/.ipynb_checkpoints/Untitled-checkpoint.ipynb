{
 "cells": [
  {
   "cell_type": "code",
   "execution_count": 3,
   "id": "6542b17d-8aa7-45d4-a599-87582dd325ce",
   "metadata": {
    "tags": []
   },
   "outputs": [],
   "source": [
    "import torch"
   ]
  },
  {
   "cell_type": "code",
   "execution_count": 4,
   "id": "39ee9f7f-8b0f-44d9-aa38-4d710378c7dd",
   "metadata": {
    "tags": []
   },
   "outputs": [
    {
     "data": {
      "text/plain": [
       "torch.Size([2, 3])"
      ]
     },
     "execution_count": 4,
     "metadata": {},
     "output_type": "execute_result"
    }
   ],
   "source": [
    "x = torch.empty(2,3)\n",
    "x.shape"
   ]
  },
  {
   "cell_type": "code",
   "execution_count": 1,
   "id": "8a37e055-f682-404e-8b19-55afc78d1cd8",
   "metadata": {
    "tags": []
   },
   "outputs": [],
   "source": [
    "# Demo for decay analysis using the DecayFitNet Toolbox\n",
    "import sys\n",
    "import torch\n",
    "import numpy as np\n",
    "import torchaudio\n",
    "import os\n",
    "from pathlib import Path\n",
    "import matplotlib.pyplot as plt\n",
    "\n",
    "from toolbox.DecayFitNetToolbox import DecayFitNetToolbox\n",
    "from toolbox.utils import calc_mse\n",
    "from toolbox.core import discard_last_n_percent, decay_model, PreprocessRIR\n",
    "\n",
    "from toolbox.BayesianDecayAnalysis import BayesianDecayAnalysis"
   ]
  },
  {
   "cell_type": "code",
   "execution_count": 2,
   "id": "5a7a99db-148b-45fb-94b8-d8092988807b",
   "metadata": {
    "tags": []
   },
   "outputs": [
    {
     "ename": "NameError",
     "evalue": "name '__file__' is not defined",
     "output_type": "error",
     "traceback": [
      "\u001b[1;31m---------------------------------------------------------------------------\u001b[0m",
      "\u001b[1;31mNameError\u001b[0m                                 Traceback (most recent call last)",
      "Cell \u001b[1;32mIn[2], line 3\u001b[0m\n\u001b[0;32m      1\u001b[0m \u001b[38;5;66;03m# ===============================================================================\u001b[39;00m\n\u001b[0;32m      2\u001b[0m \u001b[38;5;66;03m# Parameters\u001b[39;00m\n\u001b[1;32m----> 3\u001b[0m audio_path \u001b[38;5;241m=\u001b[39m os\u001b[38;5;241m.\u001b[39mpath\u001b[38;5;241m.\u001b[39mjoin(Path(\u001b[38;5;18;43m__file__\u001b[39;49m)\u001b[38;5;241m.\u001b[39mparent\u001b[38;5;241m.\u001b[39mparent\u001b[38;5;241m.\u001b[39mresolve(), \u001b[38;5;124m'\u001b[39m\u001b[38;5;124mdata\u001b[39m\u001b[38;5;124m'\u001b[39m, \u001b[38;5;124m'\u001b[39m\u001b[38;5;124mexampleRIRs\u001b[39m\u001b[38;5;124m'\u001b[39m)\n\u001b[0;32m      4\u001b[0m rir_fname \u001b[38;5;241m=\u001b[39m \u001b[38;5;124m'\u001b[39m\u001b[38;5;124mdoubleslope_0178_3_sh_rirs.wav\u001b[39m\u001b[38;5;124m'\u001b[39m  \u001b[38;5;66;03m# First measurement\u001b[39;00m\n\u001b[0;32m      5\u001b[0m fadeout_length \u001b[38;5;241m=\u001b[39m \u001b[38;5;241m0\u001b[39m  \u001b[38;5;66;03m# in seconds\u001b[39;00m\n",
      "\u001b[1;31mNameError\u001b[0m: name '__file__' is not defined"
     ]
    }
   ],
   "source": [
    "# ===============================================================================\n",
    "# Parameters\n",
    "audio_path = os.path.join(Path(__file__).parent.parent.resolve(), 'data', 'exampleRIRs')\n",
    "rir_fname = 'doubleslope_0178_3_sh_rirs.wav'  # First measurement\n",
    "fadeout_length = 0  # in seconds\n",
    "\n",
    "n_slopes = 0  # 0 = number of active slopes is determined by network or bayesian analysis (between 1 and 3)\n",
    "\n",
    "filter_frequencies = [125, 250, 500, 1000, 2000, 4000]\n",
    "\n",
    "# Bayesian paramters: a_range and n_range are both exponents, i.e., actual range = 10^a_range or 10^n_range\n",
    "parameter_ranges = {'t_range': [0.1, 3.5],\n",
    "                    'a_range': [-3, 0],\n",
    "                    'n_range': [-10, -2]}\n",
    "n_iterations = 100"
   ]
  },
  {
   "cell_type": "code",
   "execution_count": null,
   "id": "ed5df828-b1b9-4ef0-9a53-4e61b6816e73",
   "metadata": {},
   "outputs": [],
   "source": [
    "audio_path"
   ]
  },
  {
   "cell_type": "code",
   "execution_count": null,
   "id": "cc78557a-301b-4ec4-b3ad-c3423f8c5bd8",
   "metadata": {},
   "outputs": [],
   "source": [
    "# ===============================================================================\n",
    "# Load impulse response\n",
    "rir, fs = torchaudio.load(os.path.join(audio_path, rir_fname))\n",
    "\n",
    "# Use only omni channel\n",
    "if len(rir.shape) > 1:\n",
    "    rir = rir[0:1, :]\n",
    "\n",
    "# Delete potential fade-out windows\n",
    "if fadeout_length > 0:\n",
    "    rir = rir[:, 0:round(-fadeout_length * fs)]\n",
    "\n",
    "# ===============================================================================\n",
    "# Get ground truth EDCs from raw RIRs:\n",
    "\n",
    "# Init Preprocessing\n",
    "rir_preprocessing = PreprocessRIR(sample_rate=fs, filter_frequencies=filter_frequencies)\n",
    "# Schroeder integration, analyse_full_rir: if RIR onset should be detected, set this to False\n",
    "true_edc, __ = rir_preprocessing.schroeder(rir, analyse_full_rir=True)\n",
    "time_axis = (torch.linspace(0, true_edc.shape[2] - 1, true_edc.shape[2]) / fs)\n",
    "# Permute into [n_bands, n_batches, n_samples]\n",
    "true_edc = true_edc.permute(1, 0, 2)\n",
    "\n",
    "# ===============================================================================\n",
    "# Analyze with DecayFitNet\n",
    "\n",
    "# Prepare the model\n",
    "decayfitnet = DecayFitNetToolbox(n_slopes=n_slopes, sample_rate=fs, filter_frequencies=filter_frequencies)\n",
    "\n",
    "# Process: analyse_full_rir: if RIR onset should be detected, set this to False\n",
    "estimated_parameters_decayfitnet, norm_vals_decayfitnet = decayfitnet.estimate_parameters(rir, analyse_full_rir=True)\n",
    "print('==== DecayFitNet: Estimated T values (in seconds, T=0 indicates an inactive slope): ====\\n' +\n",
    "      str(estimated_parameters_decayfitnet[0]))\n",
    "print('==== DecayFitNet: Estimated A values (linear scale, A=0 indicates an inactive slope): ====\\n' +\n",
    "      str(estimated_parameters_decayfitnet[1]))\n",
    "print('==== DecayFitNet: Estimated N values (linear scale): ====\\n' +\n",
    "      str(estimated_parameters_decayfitnet[2]))\n",
    "\n",
    "# Get fitted EDC from estimated parameters\n",
    "fitted_edc_decayfitnet = decay_model(torch.from_numpy(estimated_parameters_decayfitnet[0]),\n",
    "                                     torch.from_numpy(estimated_parameters_decayfitnet[1]),\n",
    "                                     torch.from_numpy(estimated_parameters_decayfitnet[2]),\n",
    "                                     time_axis=time_axis,\n",
    "                                     compensate_uli=True,\n",
    "                                     backend='torch')\n",
    "\n",
    "# Discard last 5% for MSE evaluation\n",
    "true_edc = discard_last_n_percent(true_edc, 5)\n",
    "fitted_edc_decayfitnet = discard_last_n_percent(fitted_edc_decayfitnet, 5)\n",
    "\n",
    "# Calculate MSE between true EDC and fitted EDC\n",
    "mse_per_frequencyband = calc_mse(true_edc, fitted_edc_decayfitnet)\n",
    "\n",
    "# Plot\n",
    "time_axis_excl5 = time_axis[0:round(0.95 * len(time_axis))]  # discard last 5 percent of plot time axis\n",
    "colors = ['b', 'g', 'r', 'c', 'm', 'y']\n",
    "for band_idx in range(true_edc.shape[0]):\n",
    "    plt.plot(time_axis_excl5, 10 * torch.log10(true_edc[band_idx, 0, :].squeeze()),\n",
    "             colors[band_idx], label='Measured EDC, {} Hz'.format(filter_frequencies[band_idx]))\n",
    "    plt.plot(time_axis_excl5, 10 * torch.log10(fitted_edc_decayfitnet[band_idx, 0, :].squeeze()),\n",
    "             colors[band_idx] + '--', label='DecayFitNet fit, {} Hz'.format(filter_frequencies[band_idx]))\n",
    "\n",
    "plt.xlabel('time [s]')\n",
    "plt.ylabel('energy [dB]')\n",
    "plt.subplots_adjust(right=0.6)\n",
    "plt.legend(loc='upper right', bbox_to_anchor=(1.8, 1))\n",
    "plt.title('DecayFitNet')\n",
    "plt.show()\n",
    "\n",
    "# How to change the center frequencies manually (can also be set directly in init of DecayFitNet)\n",
    "decayfitnet.set_filter_frequencies([0, 125, 250, 500, 1000, 2000, 4000, fs / 2])\n",
    "estimated_parameters_decayfitnet, norm_vals_decayfitnet = decayfitnet.estimate_parameters(rir)\n",
    "print('==== DecayFitNet: Estimated T values (in seconds, T=0 indicates an inactive slope): ====\\n'\n",
    "      + str(estimated_parameters_decayfitnet[0]))\n",
    "print('==== DecayFitNet: Estimated A values (linear scale, A=0 indicates an inactive slope): ====\\n'\n",
    "      + str(estimated_parameters_decayfitnet[1]))\n",
    "print('==== DecayFitNet: Estimated N values (linear scale): ====\\n'\n",
    "      + str(estimated_parameters_decayfitnet[2]))\n",
    "\n",
    "# ===============================================================================\n",
    "# Bayesian decay analysis\n",
    "\n",
    "# Init Bayesian decay analysis\n",
    "bda = BayesianDecayAnalysis(n_slopes, fs, parameter_ranges, n_iterations)\n",
    "\n",
    "# Estimate decay parameters\n",
    "estimated_parameters_bayesian, norm_vals_bayesian = bda.estimate_parameters(rir)\n",
    "\n",
    "print('==== Bayesian decay analysis: Estimated T values (in seconds, T=0 indicates an inactive slope): ====\\n' +\n",
    "      str(estimated_parameters_bayesian[0]))\n",
    "print('==== Bayesian decay analysis: Estimated A values (linear scale, A=0 indicates an inactive slope): ====\\n' +\n",
    "      str(estimated_parameters_bayesian[1]))\n",
    "print('==== Bayesian decay analysis: Estimated N values (linear scale): ====\\n' +\n",
    "      str(estimated_parameters_bayesian[2]))\n",
    "\n",
    "# Get EDC from estimated parameters\n",
    "fitted_edc_bayesian = decay_model(estimated_parameters_bayesian[0],\n",
    "                                  estimated_parameters_bayesian[1],\n",
    "                                  estimated_parameters_bayesian[2],\n",
    "                                  time_axis=time_axis,\n",
    "                                  compensate_uli=True,\n",
    "                                  backend='np')\n",
    "fitted_edc_bayesian = torch.from_numpy(np.sum(fitted_edc_bayesian, 1, keepdims=True))  # sum up terms of the decay model\n",
    "\n",
    "# Discard last 5% for MSE evaluation\n",
    "fitted_edc_bayesian = discard_last_n_percent(fitted_edc_bayesian, 5)\n",
    "\n",
    "# Calculate MSE between true EDC and fitted EDC\n",
    "mse_per_frequencyband = calc_mse(true_edc, fitted_edc_bayesian)\n",
    "\n",
    "# Plot\n",
    "time_axis_excl5 = time_axis[0:round(0.95 * len(time_axis))]  # discard last 5 percent of plot time axis\n",
    "colors = ['b', 'g', 'r', 'c', 'm', 'y']\n",
    "filter_frequencies = decayfitnet.get_filter_frequencies()\n",
    "for band_idx in range(true_edc.shape[0]):\n",
    "    plt.plot(time_axis_excl5, 10 * torch.log10(true_edc[band_idx, 0, :].squeeze()),\n",
    "             colors[band_idx], label='Measured EDC, {} Hz'.format(filter_frequencies[band_idx]))\n",
    "    plt.plot(time_axis_excl5, 10 * torch.log10(fitted_edc_bayesian[band_idx, 0, :].squeeze()),\n",
    "             colors[band_idx] + '--', label='Bayesian fit, {} Hz'.format(filter_frequencies[band_idx]))\n",
    "\n",
    "plt.xlabel('time [s]')\n",
    "plt.ylabel('energy [dB]')\n",
    "plt.subplots_adjust(right=0.6)\n",
    "plt.legend(loc='upper right', bbox_to_anchor=(1.8, 1))\n",
    "plt.title('Bayesian decay analysis')\n",
    "plt.show()"
   ]
  }
 ],
 "metadata": {
  "kernelspec": {
   "display_name": "Python 3 (ipykernel)",
   "language": "python",
   "name": "python3"
  },
  "language_info": {
   "codemirror_mode": {
    "name": "ipython",
    "version": 3
   },
   "file_extension": ".py",
   "mimetype": "text/x-python",
   "name": "python",
   "nbconvert_exporter": "python",
   "pygments_lexer": "ipython3",
   "version": "3.10.13"
  }
 },
 "nbformat": 4,
 "nbformat_minor": 5
}
